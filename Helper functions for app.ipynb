{
 "cells": [
  {
   "cell_type": "markdown",
   "id": "9ec832e0-d6ae-4988-b9f7-234eb58c66e0",
   "metadata": {},
   "source": [
    "# Fetch from Openai function"
   ]
  },
  {
   "cell_type": "code",
   "execution_count": 7,
   "id": "67ebb4b6-3c42-4ff7-aea6-031b4a6b1f15",
   "metadata": {},
   "outputs": [
    {
     "name": "stdout",
     "output_type": "stream",
     "text": [
      "City Details: {'city1': {'name': 'Tokyo', 'country': 'Japan', 'fun_fact': 'Tokyo is the largest city in the world by population.', 'walking_time_hours': 670, 'swimming_time_hours': 290}, 'city2': {'name': 'Sydney', 'country': 'Australia', 'fun_fact': \"Sydney Opera House's shells are made up of over 1 million tiles.\", 'walking_time_hours': 530, 'swimming_time_hours': 230}, 'distance_km': 7540, 'flight_time_hours': 10, 'walking_swimming_time': 'You will need 24 days walking + 13 days swimming.'}\n"
     ]
    }
   ],
   "source": [
    "import json\n",
    "from openai import OpenAI\n",
    "\n",
    "# Initialize the OpenAI client with your API key\n",
    "client = OpenAI(api_key=\"sk-svcacct-8dcUrtOCCiU3jO3ysuZ29D-DeYPWd3Vk_BKZf4s5Ya-UuWekdRLkG2LzQGCKYwIT3BlbkFJ0gsmApPqJnvNjSnyvcQI7UinZ3vehK1O3RJCCCG3qAjxxlUxbFXiQTG2fZwu_AA\")\n",
    "\n",
    "def fetch_random_cities():\n",
    "    \"\"\"\n",
    "    Fetches details about two random cities using the OpenAI API.\n",
    "    \"\"\"\n",
    "    prompt = \"\"\"\n",
    "    Provide a JSON object with the following details about two random cities:\n",
    "    - Name of the city\n",
    "    - Country of the city\n",
    "    - Distance between the cities in kilometers\n",
    "    - Estimated flight time between the cities in hours\n",
    "    - Fun fact about each city\n",
    "    - A detailed breakdown of walking and swimming time, assuming:\n",
    "      - Humans walk 5 km per hour, walking 8 hours per day.\n",
    "      - Swimming speed is 2 km per hour, swimming 6 hours per day.\n",
    "      - The walking time is calculated based on an approximate percentage of the total distance being over land, e.g., 70% land and 30% sea. Adjust walking and swimming times accordingly.\n",
    "    \n",
    "    Example:\n",
    "    {\n",
    "        \"city1\": {\"name\": \"Paris\", \"country\": \"France\", \"fun_fact\": \"Paris has a hidden vineyard in Montmartre.\"},\n",
    "        \"city2\": {\"name\": \"New York\", \"country\": \"USA\", \"fun_fact\": \"New York's Central Park is larger than Monaco.\"},\n",
    "        \"distance_km\": 5837,\n",
    "        \"flight_time_hours\": 7.2,\n",
    "        \"walking_swimming_time\": \"You will need 120 days walking + 60 days swimming.\"\n",
    "    }\n",
    "    \"\"\"\n",
    "    try:\n",
    "        # Create a chat completion request\n",
    "        response = client.chat.completions.create(\n",
    "            model=\"gpt-3.5-turbo\",\n",
    "            messages=[\n",
    "                {\"role\": \"system\", \"content\": \"You are a helpful assistant.\"},\n",
    "                {\"role\": \"user\", \"content\": prompt},\n",
    "            ]\n",
    "        )\n",
    "        # Extract and parse the response content\n",
    "        content = response.choices[0].message.content.strip()\n",
    "        return json.loads(content)\n",
    "    except json.JSONDecodeError:\n",
    "        return \"Error: Unable to parse the response as JSON.\"\n",
    "    except Exception as e:\n",
    "        return f\"An error occurred: {e}\"\n",
    "\n",
    "if __name__ == \"__main__\":\n",
    "    cities_info = fetch_random_cities()\n",
    "    print(\"City Details:\", cities_info)\n"
   ]
  },
  {
   "cell_type": "markdown",
   "id": "21b11484-4ab0-43e8-a38d-ec12a0e9a1c9",
   "metadata": {},
   "source": [
    "# Evaluate guess quality function"
   ]
  },
  {
   "cell_type": "code",
   "execution_count": 4,
   "id": "1d0e664c-5982-4a43-a5d7-a7242d033bfd",
   "metadata": {},
   "outputs": [
    {
     "name": "stdout",
     "output_type": "stream",
     "text": [
      "Result: (False, 163)\n"
     ]
    }
   ],
   "source": [
    "def guess_eval(target_distance, user_guess):\n",
    "    \"\"\"\n",
    "    Evaluates the user's guess for the distance between cities.\n",
    "\n",
    "    Args:\n",
    "        target_distance (float): The actual distance between the two cities (in kilometers).\n",
    "        user_guess (float): The user's guessed distance (in kilometers).\n",
    "\n",
    "    Returns:\n",
    "        tuple: (is_correct (bool), difference (float))\n",
    "            - is_correct: True if the guess is exactly correct, False otherwise.\n",
    "            - difference: The absolute difference between the target distance and the user's guess.\n",
    "    \"\"\"\n",
    "    guess_quality = abs(target_distance - user_guess)\n",
    "    is_correct = target_distance == user_guess\n",
    "    return is_correct, guess_quality\n",
    "    \n",
    "# Example distances\n",
    "target_distance = 5837  # Actual distance in kilometers\n",
    "user_guess = 6000       # User's guessed distance\n",
    "\n",
    "# Evaluate the guess\n",
    "result = guess_eval(target_distance, user_guess)\n",
    "print(\"Result:\", result)  # Output: (False, 163)\n"
   ]
  },
  {
   "cell_type": "markdown",
   "id": "e9596d1f-60b4-47be-89d4-1caeccf1ee61",
   "metadata": {},
   "source": [
    "# OPENAI FETCH CITIES FUNCTION ASYNC"
   ]
  },
  {
   "cell_type": "code",
   "execution_count": 45,
   "id": "bece7a5f-1925-4ef8-85d2-8620867f187a",
   "metadata": {},
   "outputs": [
    {
     "name": "stdout",
     "output_type": "stream",
     "text": [
      "City Details: {'city1': {'name': 'Tokyo', 'country': 'Japan', 'fun_fact': 'Tokyo is the most populous metropolitan area in the world.', 'walking_time': 125, 'swimming_time': 53}, 'city2': {'name': 'Rio de Janeiro', 'country': 'Brazil', 'fun_fact': 'Rio de Janeiro is home to the iconic Christ the Redeemer statue.', 'walking_time': 87, 'swimming_time': 37}, 'distance_km': 18879, 'flight_time_hours': 23.4, 'walking_swimming_time': 'You will need approximately 212 days walking + 90 days swimming.'}\n"
     ]
    }
   ],
   "source": [
    "import asyncio\n",
    "import json\n",
    "from openai import AsyncOpenAI\n",
    "import nest_asyncio\n",
    "\n",
    "# Allow nested event loops for interactive environments\n",
    "nest_asyncio.apply()\n",
    "\n",
    "# Initialize the OpenAI client\n",
    "client = AsyncOpenAI(api_key=\"sk-svcacct-8dcUrtOCCiU3jO3ysuZ29D-DeYPWd3Vk_BKZf4s5Ya-UuWekdRLkG2LzQGCKYwIT3BlbkFJ0gsmApPqJnvNjSnyvcQI7UinZ3vehK1O3RJCCCG3qAjxxlUxbFXiQTG2fZwu_AA\")\n",
    "\n",
    "async def fetch_random_cities():\n",
    "    prompt = \"\"\"\n",
    "    Provide a JSON object with the following details about two random cities:\n",
    "    - Name of the city\n",
    "    - Country of the city\n",
    "    - Distance between the cities in kilometers\n",
    "    - Estimated flight time between the cities in hours\n",
    "    - Fun fact about each city\n",
    "    - A detailed breakdown of walking and swimming time, assuming:\n",
    "      - Humans walk 5 km per hour, walking 8 hours per day.\n",
    "      - Swimming speed is 2 km per hour, swimming 6 hours per day.\n",
    "      - The walking time is calculated based on an approximate percentage of the total distance being over land, e.g., 70% land and 30% sea. Adjust walking and swimming times accordingly.\n",
    "    \n",
    "    Example:\n",
    "    {\n",
    "        \"city1\": {\"name\": \"Paris\", \"country\": \"France\", \"fun_fact\": \"Paris has a hidden vineyard in Montmartre.\"},\n",
    "        \"city2\": {\"name\": \"New York\", \"country\": \"USA\", \"fun_fact\": \"New York's Central Park is larger than Monaco.\"},\n",
    "        \"distance_km\": 5837,\n",
    "        \"flight_time_hours\": 7.2,\n",
    "        \"walking_swimming_time\": \"You will need 120 days walking + 60 days swimming.\"\n",
    "    }\n",
    "    \"\"\"\n",
    "\n",
    "    try:\n",
    "        # Call the OpenAI API\n",
    "        response = await client.chat.completions.create(\n",
    "            model=\"gpt-3.5-turbo\",\n",
    "            messages=[\n",
    "                {\"role\": \"system\", \"content\": \"You are a helpful assistant.\"},\n",
    "                {\"role\": \"user\", \"content\": prompt}\n",
    "            ]\n",
    "        )\n",
    "\n",
    "        # Extract and parse the response content\n",
    "        content = response.choices[0].message.content.strip()\n",
    "\n",
    "        # Convert the string response to a Python dictionary\n",
    "        result = json.loads(content)\n",
    "        return result\n",
    "\n",
    "    except json.JSONDecodeError:\n",
    "        return \"Error: Unable to parse the response as JSON.\"\n",
    "    except Exception as e:\n",
    "        return f\"An error occurred: {e}\"\n",
    "\n",
    "if __name__ == \"__main__\":\n",
    "    cities_info = asyncio.run(fetch_random_cities())\n",
    "    print(\"City Details:\", cities_info)\n"
   ]
  },
  {
   "cell_type": "markdown",
   "id": "366c59e8-bb56-4baa-9295-3acac9bd50a3",
   "metadata": {},
   "source": [
    "# Working test code: "
   ]
  },
  {
   "cell_type": "code",
   "execution_count": 5,
   "id": "6040cfa6-89cc-44b9-b194-d48b12669375",
   "metadata": {
    "scrolled": true
   },
   "outputs": [
    {
     "name": "stderr",
     "output_type": "stream",
     "text": [
      "2024-11-28 07:52:09.536 Thread 'MainThread': missing ScriptRunContext! This warning can be ignored when running in bare mode.\n",
      "2024-11-28 07:52:09.537 Thread 'MainThread': missing ScriptRunContext! This warning can be ignored when running in bare mode.\n",
      "2024-11-28 07:52:09.537 Thread 'MainThread': missing ScriptRunContext! This warning can be ignored when running in bare mode.\n",
      "2024-11-28 07:52:09.537 Thread 'MainThread': missing ScriptRunContext! This warning can be ignored when running in bare mode.\n",
      "2024-11-28 07:52:09.538 Thread 'MainThread': missing ScriptRunContext! This warning can be ignored when running in bare mode.\n",
      "2024-11-28 07:52:09.538 Thread 'MainThread': missing ScriptRunContext! This warning can be ignored when running in bare mode.\n",
      "2024-11-28 07:52:09.538 Thread 'MainThread': missing ScriptRunContext! This warning can be ignored when running in bare mode.\n",
      "2024-11-28 07:52:09.538 Thread 'MainThread': missing ScriptRunContext! This warning can be ignored when running in bare mode.\n",
      "2024-11-28 07:52:09.539 Thread 'MainThread': missing ScriptRunContext! This warning can be ignored when running in bare mode.\n",
      "2024-11-28 07:52:09.539 Thread 'MainThread': missing ScriptRunContext! This warning can be ignored when running in bare mode.\n",
      "2024-11-28 07:52:09.539 Thread 'MainThread': missing ScriptRunContext! This warning can be ignored when running in bare mode.\n",
      "2024-11-28 07:52:09.539 Thread 'MainThread': missing ScriptRunContext! This warning can be ignored when running in bare mode.\n",
      "2024-11-28 07:52:09.540 Thread 'MainThread': missing ScriptRunContext! This warning can be ignored when running in bare mode.\n",
      "2024-11-28 07:52:09.540 Thread 'MainThread': missing ScriptRunContext! This warning can be ignored when running in bare mode.\n",
      "2024-11-28 07:52:09.540 Thread 'MainThread': missing ScriptRunContext! This warning can be ignored when running in bare mode.\n",
      "2024-11-28 07:52:09.541 Thread 'MainThread': missing ScriptRunContext! This warning can be ignored when running in bare mode.\n",
      "2024-11-28 07:52:09.541 Thread 'MainThread': missing ScriptRunContext! This warning can be ignored when running in bare mode.\n",
      "2024-11-28 07:52:09.541 Thread 'MainThread': missing ScriptRunContext! This warning can be ignored when running in bare mode.\n",
      "2024-11-28 07:52:09.541 Thread 'MainThread': missing ScriptRunContext! This warning can be ignored when running in bare mode.\n",
      "2024-11-28 07:52:09.542 Thread 'MainThread': missing ScriptRunContext! This warning can be ignored when running in bare mode.\n",
      "2024-11-28 07:52:09.542 Thread 'MainThread': missing ScriptRunContext! This warning can be ignored when running in bare mode.\n"
     ]
    }
   ],
   "source": [
    "from assets.utils import fetch_random_cities, guess_eval\n",
    "import streamlit as st\n",
    "\n",
    "\n",
    "def main():\n",
    "    st.title(\"Guess the Distance Between Two Cities\")\n",
    "\n",
    "    if 'game_data' not in st.session_state:\n",
    "        st.session_state.game_data = fetch_random_cities()\n",
    "        st.session_state.guesses = []\n",
    "        st.session_state.rounds = []\n",
    "\n",
    "    game_data = st.session_state.game_data\n",
    "\n",
    "    if isinstance(game_data, str):\n",
    "        st.error(game_data)\n",
    "        return\n",
    "\n",
    "    city1 = game_data['city1']\n",
    "    city2 = game_data['city2']\n",
    "    target_distance = game_data['distance_km']\n",
    "\n",
    "    st.write(f\"Guess the distance between **{city1['name']}**, {city1['country']} and **{city2['name']}**, {city2['country']}.\")\n",
    "\n",
    "    with st.form(key='guess_form'):\n",
    "        user_guess = st.number_input(\"Enter your guess in kilometers:\", min_value=0)\n",
    "        submit_button = st.form_submit_button(label='Submit')\n",
    "\n",
    "    if submit_button:\n",
    "        is_correct, difference = guess_eval(target_distance, user_guess)\n",
    "        st.session_state.guesses.append(difference)\n",
    "\n",
    "        if is_correct:\n",
    "            st.success(\"Congratulations! Your guess is correct.\")\n",
    "            st.session_state.rounds.append({\n",
    "                'target_distance': target_distance,\n",
    "                'total_difference': sum(st.session_state.guesses),\n",
    "                'num_guesses': len(st.session_state.guesses)\n",
    "            })\n",
    "            st.session_state.game_data = fetch_random_cities()\n",
    "            st.session_state.guesses = []\n",
    "        else:\n",
    "            st.info(f\"Your guess was off by {difference:.2f} km. Try again!\")\n",
    "\n",
    "if __name__ == \"__main__\":\n",
    "    main()\n"
   ]
  },
  {
   "cell_type": "code",
   "execution_count": null,
   "id": "a79f7569-3272-4b9f-889b-a3d113cf593b",
   "metadata": {},
   "outputs": [],
   "source": []
  }
 ],
 "metadata": {
  "kernelspec": {
   "display_name": "Python 3 (ipykernel)",
   "language": "python",
   "name": "python3"
  },
  "language_info": {
   "codemirror_mode": {
    "name": "ipython",
    "version": 3
   },
   "file_extension": ".py",
   "mimetype": "text/x-python",
   "name": "python",
   "nbconvert_exporter": "python",
   "pygments_lexer": "ipython3",
   "version": "3.9.20"
  }
 },
 "nbformat": 4,
 "nbformat_minor": 5
}
